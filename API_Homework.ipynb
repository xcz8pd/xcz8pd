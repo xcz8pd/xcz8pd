{
  "nbformat": 4,
  "nbformat_minor": 0,
  "metadata": {
    "colab": {
      "provenance": [],
      "authorship_tag": "ABX9TyOPz2Z/YR8QS6yL+pGJuYq+",
      "include_colab_link": true
    },
    "kernelspec": {
      "name": "python3",
      "display_name": "Python 3"
    },
    "language_info": {
      "name": "python"
    }
  },
  "cells": [
    {
      "cell_type": "markdown",
      "metadata": {
        "id": "view-in-github",
        "colab_type": "text"
      },
      "source": [
        "<a href=\"https://colab.research.google.com/github/xcz8pd/xcz8pd/blob/main/API_Homework.ipynb\" target=\"_parent\"><img src=\"https://colab.research.google.com/assets/colab-badge.svg\" alt=\"Open In Colab\"/></a>"
      ]
    },
    {
      "cell_type": "code",
      "execution_count": 1,
      "metadata": {
        "id": "YDV-D9-Lgrrp"
      },
      "outputs": [],
      "source": [
        "import requests\n",
        "import json\n",
        "import pandas as pd"
      ]
    },
    {
      "cell_type": "code",
      "source": [
        "stock=input().upper()"
      ],
      "metadata": {
        "colab": {
          "base_uri": "https://localhost:8080/"
        },
        "id": "az_QBkobg3Vl",
        "outputId": "4ad234f4-2d75-44ec-f750-c419f94d1ab2"
      },
      "execution_count": 2,
      "outputs": [
        {
          "name": "stdout",
          "output_type": "stream",
          "text": [
            "msft\n"
          ]
        }
      ]
    },
    {
      "cell_type": "code",
      "source": [
        "apikey=\"yourapikey\"\n",
        "\n",
        "url_1 = \"https://yfapi.net/v6/finance/quote\"\n",
        "\n",
        "querystring_1 = {\"symbols\":stock}\n",
        "\n",
        "headers = {\n",
        "    'x-api-key': apikey\n",
        "    }\n",
        "\n",
        "response = requests.request(\"GET\", url_1, headers=headers, params=querystring_1)\n",
        "\n",
        "if response.status_code == 200:\n",
        "    print(\"API request successful!\")\n",
        "else:\n",
        "    print(f\"Failed to retrieve data: {response.status_code}\")\n",
        "\n",
        "print(response.text)\n",
        "\n",
        "url_2 = f\"https://yfapi.net/v11/finance/quoteSummary/{stock}?lang=en&region=US&modules=financialData\"\n",
        "querystring_2 = {\"symbols\":stock}\n",
        "\n",
        "response_2 = requests.request(\"GET\", url_2, headers=headers, params=querystring_2)\n",
        "\n",
        "if response_2.status_code == 200:\n",
        "    print(\"API request successful!\")\n",
        "else:\n",
        "    print(f\"Failed to retrieve data: {response.status_code}\")\n",
        "print(response_2.text)\n",
        "\n",
        "url_3 = \"https://yfapi.net/v1/finance/trending/US\"\n",
        "response_3 = requests.request(\"GET\", url_3, headers=headers)\n",
        "data3 = response_3.json()\n",
        "trending_stocks = data3['finance']['result'][0]['quotes']\n",
        "\n",
        "if response_3.status_code == 200:\n",
        "    print(\"API request successful!\")\n",
        "else:\n",
        "    print(f\"Failed to retrieve data: {response.status_code}\")\n",
        "print(response_3.text)"
      ],
      "metadata": {
        "colab": {
          "base_uri": "https://localhost:8080/"
        },
        "id": "SyJq4ZqBhL2u",
        "outputId": "b98b1f60-d6c9-4e4a-c572-d07d3ad11ab8"
      },
      "execution_count": 3,
      "outputs": [
        {
          "output_type": "stream",
          "name": "stdout",
          "text": [
            "API request successful!\n",
            "{\"quoteResponse\":{\"result\":[{\"language\":\"en-US\",\"region\":\"US\",\"quoteType\":\"EQUITY\",\"typeDisp\":\"Equity\",\"quoteSourceName\":\"Nasdaq Real Time Price\",\"triggerable\":true,\"customPriceAlertConfidence\":\"HIGH\",\"currency\":\"USD\",\"marketState\":\"CLOSED\",\"regularMarketChangePercent\":-0.7627944,\"regularMarketPrice\":428.02,\"fiftyTwoWeekLowChange\":116.81,\"fiftyTwoWeekLowChangePercent\":0.37534142,\"fiftyTwoWeekRange\":\"311.21 - 468.35\",\"fiftyTwoWeekHighChange\":-40.330017,\"fiftyTwoWeekHighChangePercent\":-0.08611085,\"fiftyTwoWeekLow\":311.21,\"fiftyTwoWeekHigh\":468.35,\"fiftyTwoWeekChangePercent\":33.008076,\"dividendDate\":1733961600,\"earningsTimestamp\":1722369600,\"earningsTimestampStart\":1729594740,\"earningsTimestampEnd\":1730116800,\"earningsCallTimestampStart\":1722375000,\"earningsCallTimestampEnd\":1722375000,\"isEarningsDateEstimate\":true,\"trailingAnnualDividendRate\":3.0,\"trailingPE\":36.242165,\"dividendRate\":3.32,\"trailingAnnualDividendYield\":0.0069555542,\"dividendYield\":0.78,\"epsTrailingTwelveMonths\":11.81,\"epsForward\":15.21,\"epsCurrentYear\":13.07,\"priceEpsCurrentYear\":32.74828,\"sharesOutstanding\":7433039872,\"postMarketChangePercent\":-0.163539,\"postMarketTime\":1727481598,\"postMarketPrice\":427.32,\"postMarketChange\":-0.699982,\"regularMarketChange\":-3.2900085,\"regularMarketTime\":1727467201,\"regularMarketDayHigh\":431.83,\"regularMarketDayRange\":\"427.47 - 431.83\",\"regularMarketDayLow\":427.47,\"regularMarketVolume\":14896131,\"regularMarketPreviousClose\":431.31,\"bid\":427.88,\"ask\":428.02,\"bidSize\":1,\"askSize\":1,\"fullExchangeName\":\"NasdaqGS\",\"financialCurrency\":\"USD\",\"regularMarketOpen\":431.52,\"averageDailyVolume3Month\":19880549,\"averageDailyVolume10Day\":20340230,\"bookValue\":36.115,\"fiftyDayAverage\":419.9102,\"fiftyDayAverageChange\":8.109802,\"fiftyDayAverageChangePercent\":0.019313183,\"twoHundredDayAverage\":415.3893,\"twoHundredDayAverageChange\":12.630676,\"twoHundredDayAverageChangePercent\":0.03040684,\"marketCap\":3181489684480,\"forwardPE\":28.140696,\"priceToBook\":11.851584,\"sourceInterval\":15,\"exchangeDataDelayedBy\":0,\"averageAnalystRating\":\"1.7 - Buy\",\"tradeable\":false,\"cryptoTradeable\":false,\"hasPrePostMarketData\":true,\"firstTradeDateMilliseconds\":511108200000,\"priceHint\":2,\"exchange\":\"NMS\",\"shortName\":\"Microsoft Corporation\",\"longName\":\"Microsoft Corporation\",\"messageBoardId\":\"finmb_21835\",\"exchangeTimezoneName\":\"America/New_York\",\"exchangeTimezoneShortName\":\"EDT\",\"gmtOffSetMilliseconds\":-14400000,\"market\":\"us_market\",\"esgPopulated\":false,\"displayName\":\"Microsoft\",\"symbol\":\"MSFT\"}],\"error\":null}}\n",
            "API request successful!\n",
            "{\"quoteSummary\":{\"result\":[{\"financialData\":{\"maxAge\":86400,\"currentPrice\":{\"raw\":428.02,\"fmt\":\"428.02\"},\"targetHighPrice\":{\"raw\":600.0,\"fmt\":\"600.00\"},\"targetLowPrice\":{\"raw\":440.0,\"fmt\":\"440.00\"},\"targetMeanPrice\":{\"raw\":496.38,\"fmt\":\"496.38\"},\"targetMedianPrice\":{\"raw\":500.0,\"fmt\":\"500.00\"},\"recommendationMean\":{\"raw\":1.7,\"fmt\":\"1.70\"},\"recommendationKey\":\"buy\",\"numberOfAnalystOpinions\":{\"raw\":47,\"fmt\":\"47\",\"longFmt\":\"47\"},\"totalCash\":{\"raw\":75531001856,\"fmt\":\"75.53B\",\"longFmt\":\"75,531,001,856\"},\"totalCashPerShare\":{\"raw\":10.162,\"fmt\":\"10.16\"},\"ebitda\":{\"raw\":129433001984,\"fmt\":\"129.43B\",\"longFmt\":\"129,433,001,984\"},\"totalDebt\":{\"raw\":97851998208,\"fmt\":\"97.85B\",\"longFmt\":\"97,851,998,208\"},\"quickRatio\":{\"raw\":1.141,\"fmt\":\"1.14\"},\"currentRatio\":{\"raw\":1.275,\"fmt\":\"1.27\"},\"totalRevenue\":{\"raw\":245122007040,\"fmt\":\"245.12B\",\"longFmt\":\"245,122,007,040\"},\"debtToEquity\":{\"raw\":36.447,\"fmt\":\"36.45%\"},\"revenuePerShare\":{\"raw\":32.986,\"fmt\":\"32.99\"},\"returnOnAssets\":{\"raw\":0.14802,\"fmt\":\"14.80%\"},\"returnOnEquity\":{\"raw\":0.37133,\"fmt\":\"37.13%\"},\"grossProfits\":{},\"freeCashflow\":{\"raw\":56705249280,\"fmt\":\"56.71B\",\"longFmt\":\"56,705,249,280\"},\"operatingCashflow\":{\"raw\":118547996672,\"fmt\":\"118.55B\",\"longFmt\":\"118,547,996,672\"},\"earningsGrowth\":{\"raw\":0.097,\"fmt\":\"9.70%\"},\"revenueGrowth\":{\"raw\":0.152,\"fmt\":\"15.20%\"},\"grossMargins\":{\"raw\":0.69764,\"fmt\":\"69.76%\"},\"ebitdaMargins\":{\"raw\":0.52804,\"fmt\":\"52.80%\"},\"operatingMargins\":{\"raw\":0.43143,\"fmt\":\"43.14%\"},\"profitMargins\":{\"raw\":0.35956,\"fmt\":\"35.96%\"},\"financialCurrency\":\"USD\"}}],\"error\":null}}\n",
            "API request successful!\n",
            "{\"finance\":{\"result\":[{\"count\":20,\"quotes\":[{\"symbol\":\"AMSC\"},{\"symbol\":\"PWR\"},{\"symbol\":\"SNAP\"},{\"symbol\":\"SOL-USD\"},{\"symbol\":\"GC=F\"},{\"symbol\":\"NQ=F\"},{\"symbol\":\"VRT\"},{\"symbol\":\"BBD\"},{\"symbol\":\"EME\"},{\"symbol\":\"CL=F\"},{\"symbol\":\"^N225\"},{\"symbol\":\"ES=F\"},{\"symbol\":\"9988.HK\"},{\"symbol\":\"^IXIC\"},{\"symbol\":\"ROKU\"},{\"symbol\":\"JPY=X\"},{\"symbol\":\"BTC-USD\"},{\"symbol\":\"BTC=F\"},{\"symbol\":\"SI=F\"},{\"symbol\":\"PATH\"}],\"jobTimestamp\":1727648593880,\"startInterval\":202409292100}],\"error\":null}}\n"
          ]
        }
      ]
    },
    {
      "cell_type": "code",
      "source": [
        "\n",
        "stock_json = response.json()\n",
        "for i in (stock_json['quoteResponse']['result']):\n",
        "  print(f\"Ticker Name: {i['symbol']}\")\n",
        "  print(f\"Full Name: {i['longName']}\")\n",
        "  print(f\"52-Week Low: {i['fiftyTwoWeekLow']}\")\n",
        "  print(f\"52-Week High: {i['fiftyTwoWeekHigh']}\")\n",
        "stock_json_2 = response_2.json()\n",
        "for i in (stock_json_2['quoteSummary']['result']):\n",
        "  print(f\"Target Mean Price: {i['financialData']['targetMeanPrice']['raw']}\")\n",
        "  print(f\"Current Market Price: {i['financialData']['currentPrice']['raw']}\")\n",
        "print(\"Top 5 Trending Stocks in US:\")\n",
        "for i in trending_stocks[:5]:\n",
        "  print(i[\"symbol\"])"
      ],
      "metadata": {
        "colab": {
          "base_uri": "https://localhost:8080/"
        },
        "id": "adcVD7eKCHXS",
        "outputId": "1f4e00d6-a0b6-4ca1-b31e-0ca9217e32f3"
      },
      "execution_count": 4,
      "outputs": [
        {
          "output_type": "stream",
          "name": "stdout",
          "text": [
            "Ticker Name: MSFT\n",
            "Full Name: Microsoft Corporation\n",
            "52-Week Low: 311.21\n",
            "52-Week High: 468.35\n",
            "Target Mean Price: 496.38\n",
            "Current Market Price: 428.02\n",
            "Top 5 Trending Stocks in US:\n",
            "AMSC\n",
            "PWR\n",
            "SNAP\n",
            "SOL-USD\n",
            "GC=F\n"
          ]
        }
      ]
    },
    {
      "cell_type": "code",
      "source": [
        "stock_data = []\n",
        "for i in (stock_json['quoteResponse']['result']):\n",
        "    stock_data.append({\n",
        "        \"Symbol\": i['symbol'],\n",
        "        \"Long Name\": i['longName'],\n",
        "        \"Regular Market Price\": i['regularMarketPrice'],\n",
        "        \"52-Week Low\": i['fiftyTwoWeekLow'],\n",
        "        \"52-Week High\": i['fiftyTwoWeekHigh']\n",
        "    })\n",
        "for i in (stock_json_2['quoteSummary']['result']):\n",
        "    target_mean_price = i['financialData']['targetMeanPrice']['raw']\n",
        "    stock_data[0][\"Target Mean Price\"] = target_mean_price\n",
        "trending_data = []\n",
        "for i in trending_stocks[:5]:\n",
        "    trending_data.append({\"Trending Symbol\": i[\"symbol\"]})\n",
        "print(stock_data)\n",
        "print(trending_data)"
      ],
      "metadata": {
        "colab": {
          "base_uri": "https://localhost:8080/"
        },
        "id": "_F1pqMU3pzMG",
        "outputId": "6d81a941-9e9b-4aba-f6e1-eb53e56209bf"
      },
      "execution_count": 5,
      "outputs": [
        {
          "output_type": "stream",
          "name": "stdout",
          "text": [
            "[{'Symbol': 'MSFT', 'Long Name': 'Microsoft Corporation', 'Regular Market Price': 428.02, '52-Week Low': 311.21, '52-Week High': 468.35, 'Target Mean Price': 496.38}]\n",
            "[{'Trending Symbol': 'AMSC'}, {'Trending Symbol': 'PWR'}, {'Trending Symbol': 'SNAP'}, {'Trending Symbol': 'SOL-USD'}, {'Trending Symbol': 'GC=F'}]\n"
          ]
        }
      ]
    },
    {
      "cell_type": "code",
      "source": [
        "df_stock = pd.DataFrame(stock_data)\n",
        "df_trending = pd.DataFrame(trending_data)\n",
        "print(df_stock)\n",
        "print(df_trending)"
      ],
      "metadata": {
        "colab": {
          "base_uri": "https://localhost:8080/"
        },
        "id": "tHP0Pk-bWJNw",
        "outputId": "693d968d-500d-4cb4-a9e5-9829575c0427"
      },
      "execution_count": 6,
      "outputs": [
        {
          "output_type": "stream",
          "name": "stdout",
          "text": [
            "  Symbol              Long Name  Regular Market Price  52-Week Low  \\\n",
            "0   MSFT  Microsoft Corporation                428.02       311.21   \n",
            "\n",
            "   52-Week High  Target Mean Price  \n",
            "0        468.35             496.38  \n",
            "  Trending Symbol\n",
            "0            AMSC\n",
            "1             PWR\n",
            "2            SNAP\n",
            "3         SOL-USD\n",
            "4            GC=F\n"
          ]
        }
      ]
    },
    {
      "cell_type": "code",
      "source": [
        "df_stock.to_csv(f\"{stock}_stock_data.csv\", index=False)\n",
        "df_trending.to_csv(\"trending_stocks.csv\", index=False)"
      ],
      "metadata": {
        "id": "hSTVHku1WZ86"
      },
      "execution_count": 7,
      "outputs": []
    }
  ]
}