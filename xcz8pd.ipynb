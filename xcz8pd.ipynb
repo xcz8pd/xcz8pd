{
  "cells": [
    {
      "cell_type": "code",
      "execution_count": 2,
      "id": "304bb666-55b4-40a2-a9aa-4791377aabb1",
      "metadata": {
        "id": "304bb666-55b4-40a2-a9aa-4791377aabb1"
      },
      "outputs": [],
      "source": [
        "import sqlite3\n",
        "\n",
        "connection = sqlite3.connect('student.grades.db')\n",
        "cursor = connection.cursor()"
      ]
    },
    {
      "cell_type": "code",
      "source": [
        "cursor.execute('DROP TABLE IF EXISTS students')\n",
        "cursor.execute('DROP TABLE IF EXISTS grades')"
      ],
      "metadata": {
        "colab": {
          "base_uri": "https://localhost:8080/"
        },
        "id": "43jIAIpA7yu9",
        "outputId": "49384113-53e1-4b4b-8135-827e4b36e6cb"
      },
      "id": "43jIAIpA7yu9",
      "execution_count": 3,
      "outputs": [
        {
          "output_type": "execute_result",
          "data": {
            "text/plain": [
              "<sqlite3.Cursor at 0x7df328b4f2c0>"
            ]
          },
          "metadata": {},
          "execution_count": 3
        }
      ]
    },
    {
      "cell_type": "code",
      "execution_count": 4,
      "id": "10f5b1e1-0f15-4572-af95-ebab73d3eb69",
      "metadata": {
        "id": "10f5b1e1-0f15-4572-af95-ebab73d3eb69"
      },
      "outputs": [],
      "source": [
        "cursor.execute('''\n",
        "CREATE TABLE IF NOT EXISTS students (\n",
        "    student_id INTEGER PRIMARY KEY AUTOINCREMENT,\n",
        "    first_name TEXT,\n",
        "    last_name TEXT\n",
        ")\n",
        "''');\n",
        "\n",
        "cursor.execute('''\n",
        "CREATE TABLE IF NOT EXISTS grades (\n",
        "    grade_id INTEGER PRIMARY KEY AUTOINCREMENT,\n",
        "    student_id INTEGER,\n",
        "    subject TEXT,\n",
        "    grade INTEGER,\n",
        "    FOREIGN KEY (student_id) REFERENCES students(student_id)\n",
        ")\n",
        "''');"
      ]
    },
    {
      "cell_type": "code",
      "execution_count": 5,
      "id": "4da2abe4-677e-4f14-9c79-fdcae82467f6",
      "metadata": {
        "id": "4da2abe4-677e-4f14-9c79-fdcae82467f6"
      },
      "outputs": [],
      "source": [
        "student_data = [\n",
        "    ('John', 'Smith'),\n",
        "    ('Lily', 'Jones'),\n",
        "    ('Paul', 'Brown'),\n",
        "    ('Sydney', 'Marks'),\n",
        "    ('Mary', 'Truman')\n",
        "]\n",
        "\n",
        "cursor.executemany('''\n",
        "INSERT INTO students (first_name, last_name) VALUES (?, ?)\n",
        "''', student_data)\n",
        "\n",
        "connection.commit()"
      ]
    },
    {
      "cell_type": "code",
      "execution_count": 6,
      "id": "db000aaa-aff8-4459-9522-bb878eb91e95",
      "metadata": {
        "id": "db000aaa-aff8-4459-9522-bb878eb91e95"
      },
      "outputs": [],
      "source": [
        "grades_data = [\n",
        "    ('1', 'Math', '95'),\n",
        "    ('1', 'English', '92'),\n",
        "    ('1', 'Science', '98'),\n",
        "    ('2', 'Math', '80'),\n",
        "    ('2', 'English', '90'),\n",
        "    ('2', 'Science', '95'),\n",
        "    ('3', 'Math', '93'),\n",
        "    ('3', 'English', '91'),\n",
        "    ('3', 'Science', '94'),\n",
        "    ('4', 'Math', '88'),\n",
        "    ('4', 'English', '82'),\n",
        "    ('4', 'Science', '90'),\n",
        "    ('5', 'Math', '80'),\n",
        "    ('5', 'English', '93'),\n",
        "    ('5', 'Science', '89')\n",
        "]\n",
        "\n",
        "cursor.executemany('''\n",
        "INSERT INTO grades (student_id, subject, grade) VALUES (?, ?, ?)\n",
        "''', grades_data)\n",
        "\n",
        "connection.commit()"
      ]
    },
    {
      "cell_type": "code",
      "execution_count": 7,
      "id": "50f77cbc-e355-454d-874b-d5e45e65df62",
      "metadata": {
        "colab": {
          "base_uri": "https://localhost:8080/"
        },
        "id": "50f77cbc-e355-454d-874b-d5e45e65df62",
        "outputId": "160fea0f-1aa2-4d8e-f19b-9d435beb49c9"
      },
      "outputs": [
        {
          "output_type": "stream",
          "name": "stdout",
          "text": [
            "Joined students and grades:\n",
            "John Smith: 95\n",
            "John Smith: 92\n",
            "John Smith: 98\n",
            "Lily Jones: 80\n",
            "Lily Jones: 90\n",
            "Lily Jones: 95\n",
            "Paul Brown: 93\n",
            "Paul Brown: 91\n",
            "Paul Brown: 94\n",
            "Sydney Marks: 88\n",
            "Sydney Marks: 82\n",
            "Sydney Marks: 90\n",
            "Mary Truman: 80\n",
            "Mary Truman: 93\n",
            "Mary Truman: 89\n"
          ]
        }
      ],
      "source": [
        "cursor.execute('''\n",
        "SELECT students.first_name, students.last_name, grades.grade\n",
        "FROM students\n",
        "JOIN grades ON students.student_id = grades.student_id\n",
        "''')\n",
        "\n",
        "joined_data = cursor.fetchall()\n",
        "print(\"Joined students and grades:\")\n",
        "for row in joined_data:\n",
        "    print(f\"{row[0]} {row[1]}: {row[2]}\")"
      ]
    },
    {
      "cell_type": "code",
      "execution_count": 8,
      "id": "ffeabf70-6c6f-48cd-b0aa-0cf4c0277b3b",
      "metadata": {
        "colab": {
          "base_uri": "https://localhost:8080/"
        },
        "id": "ffeabf70-6c6f-48cd-b0aa-0cf4c0277b3b",
        "outputId": "f7660f1b-5094-4bb6-8bc3-28f34797aae9"
      },
      "outputs": [
        {
          "output_type": "stream",
          "name": "stdout",
          "text": [
            "John Smith: 95.0\n",
            "Lily Jones: 88.0\n",
            "Mary Truman: 87.0\n",
            "Paul Brown: 93.0\n",
            "Sydney Marks: 87.0\n"
          ]
        }
      ],
      "source": [
        "cursor.execute('''\n",
        "SELECT students.first_name, students.last_name, ROUND(AVG(grades.grade)) as avg_grade\n",
        "FROM students\n",
        "JOIN grades ON students.student_id = grades.student_id\n",
        "GROUP by first_name, last_name\n",
        "''')\n",
        "average_grade = cursor.fetchall()\n",
        "for row in average_grade:\n",
        "    print(f\"{row[0]} {row[1]}: {row[2]}\")"
      ]
    },
    {
      "cell_type": "code",
      "execution_count": 9,
      "id": "670e1082-458b-47eb-9390-5f7096e8b391",
      "metadata": {
        "colab": {
          "base_uri": "https://localhost:8080/"
        },
        "id": "670e1082-458b-47eb-9390-5f7096e8b391",
        "outputId": "c6879276-8149-45ec-a4ab-f7413aa4804e"
      },
      "outputs": [
        {
          "output_type": "stream",
          "name": "stdout",
          "text": [
            "The student with the highest average grade is John Smith: 95.0\n"
          ]
        }
      ],
      "source": [
        "cursor.execute('''\n",
        "SELECT students.first_name, students.last_name, ROUND(AVG(grades.grade)) as avg_grade\n",
        "FROM students\n",
        "JOIN grades ON students.student_id = grades.student_id\n",
        "GROUP by first_name, last_name\n",
        "ORDER BY avg_grade DESC\n",
        "''')\n",
        "\n",
        "top_student = cursor.fetchone()\n",
        "print(\"The student with the highest average grade is \" f\"{top_student[0]} {top_student[1]}: {top_student[2]}\")"
      ]
    },
    {
      "cell_type": "code",
      "execution_count": 10,
      "id": "6e153da5-8f02-4554-bb36-6762a04d877a",
      "metadata": {
        "id": "6e153da5-8f02-4554-bb36-6762a04d877a",
        "outputId": "c2e3b935-1212-4750-dd08-44df3c78480f",
        "colab": {
          "base_uri": "https://localhost:8080/"
        }
      },
      "outputs": [
        {
          "output_type": "stream",
          "name": "stdout",
          "text": [
            "The average grade for Math is (87.0,)\n"
          ]
        }
      ],
      "source": [
        "cursor.execute('''\n",
        "SELECT ROUND(AVG(grade)) as avg_grade\n",
        "FROM grades\n",
        "WHERE subject = 'Math'\n",
        "GROUP BY subject\n",
        "''')\n",
        "\n",
        "math_average = cursor.fetchone()\n",
        "print(\"The average grade for Math is \" f\"{math_average}\")"
      ]
    },
    {
      "cell_type": "code",
      "execution_count": 11,
      "id": "498e34bd-79af-41bc-8db3-48b04033f980",
      "metadata": {
        "id": "498e34bd-79af-41bc-8db3-48b04033f980",
        "outputId": "40f4ce52-63f5-4596-a3d7-ae2a7606088a",
        "colab": {
          "base_uri": "https://localhost:8080/"
        }
      },
      "outputs": [
        {
          "output_type": "stream",
          "name": "stdout",
          "text": [
            "Students who scored above 90 in any subject: \n",
            "John Smith\n",
            "Lily Jones\n",
            "Mary Truman\n",
            "Paul Brown\n"
          ]
        }
      ],
      "source": [
        "cursor.execute('''\n",
        "SELECT DISTINCT students.first_name, students.last_name, grades.grade FROM students\n",
        "JOIN grades on students.student_id = grades.student_id\n",
        "WHERE grade > 90\n",
        "GROUP BY first_name, last_name\n",
        "''')\n",
        "\n",
        "A_students = cursor.fetchall()\n",
        "print(\"Students who scored above 90 in any subject: \")\n",
        "for row in A_students:\n",
        "    print(f\"{row[0]} {row[1]}\")"
      ]
    },
    {
      "cell_type": "code",
      "execution_count": 12,
      "id": "0a39a8d0-1bb0-4cab-b7c6-d56d85c1eb62",
      "metadata": {
        "scrolled": true,
        "id": "0a39a8d0-1bb0-4cab-b7c6-d56d85c1eb62",
        "outputId": "3e30c224-0494-4fc1-8952-20cc54695d8a",
        "colab": {
          "base_uri": "https://localhost:8080/"
        }
      },
      "outputs": [
        {
          "output_type": "stream",
          "name": "stdout",
          "text": [
            "   student_id first_name last_name\n",
            "0           1       John     Smith\n",
            "1           2       Lily     Jones\n",
            "2           3       Paul     Brown\n",
            "3           4     Sydney     Marks\n",
            "4           5       Mary    Truman\n",
            "   grade_id  student_id  subject  grade\n",
            "0         1           1     Math     95\n",
            "1         2           1  English     92\n",
            "2         3           1  Science     98\n",
            "3         4           2     Math     80\n",
            "4         5           2  English     90\n"
          ]
        }
      ],
      "source": [
        "import pandas as pd\n",
        "\n",
        "# Read sqlite query results into a pandas DataFrame\n",
        "df_students = pd.read_sql_query('SELECT * FROM students', connection)\n",
        "df_grades = pd.read_sql_query('SELECT * FROM grades', connection)\n",
        "\n",
        "# Verify that result of SQL query is stored in the dataframe\n",
        "print(df_students.head())\n",
        "print(df_grades.head())"
      ]
    },
    {
      "cell_type": "code",
      "execution_count": 13,
      "id": "3cadc6ca-20e9-4209-84a3-74174dc3c42b",
      "metadata": {
        "id": "3cadc6ca-20e9-4209-84a3-74174dc3c42b",
        "outputId": "7217ccf5-cb03-4baf-cdb9-af83580ee99c",
        "colab": {
          "base_uri": "https://localhost:8080/"
        }
      },
      "outputs": [
        {
          "output_type": "stream",
          "name": "stdout",
          "text": [
            "    grade_id  student_id  subject  grade first_name last_name\n",
            "0          1           1     Math     95       John     Smith\n",
            "1          2           1  English     92       John     Smith\n",
            "2          3           1  Science     98       John     Smith\n",
            "3          4           2     Math     80       Lily     Jones\n",
            "4          5           2  English     90       Lily     Jones\n",
            "5          6           2  Science     95       Lily     Jones\n",
            "6          7           3     Math     93       Paul     Brown\n",
            "7          8           3  English     91       Paul     Brown\n",
            "8          9           3  Science     94       Paul     Brown\n",
            "9         10           4     Math     88     Sydney     Marks\n",
            "10        11           4  English     82     Sydney     Marks\n",
            "11        12           4  Science     90     Sydney     Marks\n",
            "12        13           5     Math     80       Mary    Truman\n",
            "13        14           5  English     93       Mary    Truman\n",
            "14        15           5  Science     89       Mary    Truman\n"
          ]
        }
      ],
      "source": [
        "df_combined = pd.merge(df_grades, df_students, left_on='student_id', right_on='student_id')\n",
        "\n",
        "print(df_combined)"
      ]
    },
    {
      "cell_type": "code",
      "execution_count": 14,
      "id": "a0bfc9d6-fff3-46d2-8407-962a84dcac96",
      "metadata": {
        "id": "a0bfc9d6-fff3-46d2-8407-962a84dcac96"
      },
      "outputs": [],
      "source": [
        "student_avg = '''\n",
        "SELECT students.first_name || ' ' || students.last_name as student_name, ROUND(AVG(grades.grade)) as avg_grade\n",
        "FROM students\n",
        "JOIN grades ON students.student_id = grades.student_id\n",
        "GROUP by first_name, last_name\n",
        "'''\n",
        "\n",
        "student_avg_df = pd.read_sql_query(student_avg, connection)"
      ]
    },
    {
      "cell_type": "code",
      "execution_count": 15,
      "id": "ad7130e9-b449-45af-9477-08f6f86171b1",
      "metadata": {
        "id": "ad7130e9-b449-45af-9477-08f6f86171b1"
      },
      "outputs": [],
      "source": [
        "subject_avg = '''\n",
        "SELECT subject, ROUND(AVG(grade)) as avg_grade\n",
        "FROM grades\n",
        "GROUP BY subject\n",
        "'''\n",
        "\n",
        "subject_avg_df = pd.read_sql_query(subject_avg, connection)"
      ]
    },
    {
      "cell_type": "code",
      "execution_count": 16,
      "id": "c4bf5ed6-7c5b-4d03-be22-0ef38f96dc33",
      "metadata": {
        "id": "c4bf5ed6-7c5b-4d03-be22-0ef38f96dc33",
        "outputId": "cacd7c73-1e75-4ae5-9185-279615d27429",
        "colab": {
          "base_uri": "https://localhost:8080/",
          "height": 1000
        }
      },
      "outputs": [
        {
          "output_type": "display_data",
          "data": {
            "text/plain": [
              "<Figure size 800x600 with 1 Axes>"
            ],
            "image/png": "[encoded data removed]"
          },
          "metadata": {}
        },
        {
          "output_type": "display_data",
          "data": {
            "text/plain": [
              "<Figure size 800x600 with 1 Axes>"
            ],
            "image/png": "[encoded data removed]"
          },
          "metadata": {}
        }
      ],
      "source": [
        "import matplotlib.pyplot as plt\n",
        "\n",
        "plt.figure(figsize=(8,6))\n",
        "plt.bar(student_avg_df['student_name'], student_avg_df['avg_grade'], color='lightgreen')\n",
        "plt.xlabel('Student')\n",
        "plt.ylabel('Grade Average')\n",
        "plt.title('Average Grade per Student')\n",
        "plt.show()\n",
        "\n",
        "plt.figure(figsize=(8,6))\n",
        "plt.bar(subject_avg_df['subject'], subject_avg_df['avg_grade'], color='lightblue')\n",
        "plt.xlabel('Subject')\n",
        "plt.ylabel('Average Grade')\n",
        "plt.title('Average Grade by Subject')\n",
        "plt.show()\n"
      ]
    },
    {
      "cell_type": "code",
      "execution_count": 17,
      "id": "bd4ccdca-74f6-4c85-b572-32bcc5fabc91",
      "metadata": {
        "id": "bd4ccdca-74f6-4c85-b572-32bcc5fabc91"
      },
      "outputs": [],
      "source": [
        "cursor.close()\n",
        "connection.close()"
      ]
    },
    {
      "cell_type": "code",
      "execution_count": null,
      "id": "b45d721e-791d-4d0e-9694-b8c995a86778",
      "metadata": {
        "id": "b45d721e-791d-4d0e-9694-b8c995a86778"
      },
      "outputs": [],
      "source": []
    }
  ],
  "metadata": {
    "kernelspec": {
      "display_name": "Python 3 (ipykernel)",
      "language": "python",
      "name": "python3"
    },
    "language_info": {
      "codemirror_mode": {
        "name": "ipython",
        "version": 3
      },
      "file_extension": ".py",
      "mimetype": "text/x-python",
      "name": "python",
      "nbconvert_exporter": "python",
      "pygments_lexer": "ipython3",
      "version": "3.12.4"
    },
    "colab": {
      "provenance": []
    }
  },
  "nbformat": 4,
  "nbformat_minor": 5
}